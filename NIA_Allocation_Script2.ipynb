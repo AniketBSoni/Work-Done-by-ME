{
 "cells": [
  {
   "cell_type": "code",
   "execution_count": 1,
   "metadata": {},
   "outputs": [],
   "source": [
    "import pandas as pd\n",
    "import os\n",
    "import numpy as np\n",
    "from glob import glob"
   ]
  },
  {
   "cell_type": "code",
   "execution_count": 2,
   "metadata": {},
   "outputs": [],
   "source": [
    "f1 = glob('NIA*.xlsx')[0]"
   ]
  },
  {
   "cell_type": "code",
   "execution_count": 3,
   "metadata": {},
   "outputs": [],
   "source": [
    "df = pd.read_excel(f1)"
   ]
  },
  {
   "cell_type": "code",
   "execution_count": 4,
   "metadata": {},
   "outputs": [],
   "source": [
    "df2 = df[df['Status']=='Smartform submitted by Client']"
   ]
  },
  {
   "cell_type": "code",
   "execution_count": 5,
   "metadata": {},
   "outputs": [],
   "source": [
    "df2= df2.sort_values(by=['UPC','Item ID','Item Description'])"
   ]
  },
  {
   "cell_type": "code",
   "execution_count": 6,
   "metadata": {},
   "outputs": [],
   "source": [
    "df2['len_externalcode']=df['UPC'].astype(str).str.len()"
   ]
  },
  {
   "cell_type": "code",
   "execution_count": 7,
   "metadata": {},
   "outputs": [],
   "source": [
    "df2['T&F_UPC'] = df2['len_externalcode'].apply(lambda x:'True' if x>10 else 'False')"
   ]
  },
  {
   "cell_type": "code",
   "execution_count": 8,
   "metadata": {},
   "outputs": [],
   "source": [
    "df2['FS1'] = np.where(df2['T&F_UPC'] == 'False', 'Rejected', 'Accepted')"
   ]
  },
  {
   "cell_type": "code",
   "execution_count": 9,
   "metadata": {},
   "outputs": [],
   "source": [
    "df2['check1']=df2['UPC'].shift(-1)==df2['UPC']"
   ]
  },
  {
   "cell_type": "code",
   "execution_count": 10,
   "metadata": {},
   "outputs": [],
   "source": [
    "df2['check1']=df2['check1'].astype(str)"
   ]
  },
  {
   "cell_type": "code",
   "execution_count": 11,
   "metadata": {},
   "outputs": [],
   "source": [
    "def set_rs(df2):\n",
    "    if(df2['FS1']=='Rejected')|(df2['check1']=='True'):\n",
    "        return \"Rejected\"\n",
    "    else:\n",
    "        return \"Accepted\""
   ]
  },
  {
   "cell_type": "code",
   "execution_count": 12,
   "metadata": {},
   "outputs": [],
   "source": [
    "df2= df2.assign(result1=df2.apply(set_rs, axis=1))"
   ]
  },
  {
   "cell_type": "code",
   "execution_count": 13,
   "metadata": {},
   "outputs": [],
   "source": [
    "df3=pd.read_excel('TemplateName & Coder Info.xlsx')"
   ]
  },
  {
   "cell_type": "code",
   "execution_count": 14,
   "metadata": {},
   "outputs": [],
   "source": [
    "df4 = df2.merge(df3,left_on=\"Template Name\",right_on=\"Template Name\",\n",
    "                   how=\"left\")"
   ]
  },
  {
   "cell_type": "code",
   "execution_count": 15,
   "metadata": {},
   "outputs": [],
   "source": [
    "df4['result1']=df4['result1'].astype(str)"
   ]
  },
  {
   "cell_type": "code",
   "execution_count": 16,
   "metadata": {},
   "outputs": [],
   "source": [
    "df4['final_allocation']=np.where(df4['result1'] == \"Rejected\", 'Dhawal', df4['Allocation'])"
   ]
  },
  {
   "cell_type": "code",
   "execution_count": 17,
   "metadata": {},
   "outputs": [],
   "source": [
    "df4.to_excel(\"Final_Allocation.xlsx\")"
   ]
  },
  {
   "cell_type": "code",
   "execution_count": 18,
   "metadata": {},
   "outputs": [],
   "source": [
    "text_file = open(\"SourceCode.txt\", \"w\")\n",
    "\n",
    "text_file.write(\"\"\"import pandas as pd\n",
    "import os\n",
    "import numpy as np\n",
    "from glob import glob\n",
    "f1 = glob('NIA allocation*.xlsx')[0]\n",
    "df = pd.read_excel(f1)\n",
    "df2 = df[df['Status']=='Smartform submitted by Client']\n",
    "df2= df2.sort_values(by=['UPC','Item ID','Item Description'])\n",
    "df2['len_externalcode']=df['UPC'].astype(str).str.len()\n",
    "df2['T&F_UPC'] = df2['len_externalcode'].apply(lambda x:'True' if x>=10 else 'False')\n",
    "df2['FS1'] = np.where(df2['T&F_UPC'] == 'False', 'Rejected', 'Accepted')\n",
    "df2['check1']=df2['UPC'].shift(-1)==df2['UPC']\n",
    "df2['check1']=df2['check1'].astype(str)\n",
    "def set_rs(df2):\n",
    "    if(df2['FS1']=='Rejected')|(df2['check1']=='True'):\n",
    "        return \"Rejected\"\n",
    "    else:\n",
    "        return \"Accepted\"\n",
    "\n",
    "df2= df2.assign(result1=df2.apply(set_rs, axis=1))\n",
    "df3=pd.read_excel('TemplateName & Coder Info.xlsx')\n",
    "df4 = df2.merge(df3,left_on=\"Template Name\",\n",
    "                   right_on=\"Template Name\", how=\"left\")\n",
    "df4['result1']=df4['result1'].astype(str)\n",
    "df4['final_allocation']=np.where(df4['result1'] == \"Rejected\", 'Dhawal', df4['Coder'])\n",
    "df4.to_excel(\"Final_Allocation.xlsx\")\n",
    "\n",
    "\"\"\")\n",
    "\n",
    "text_file.close()"
   ]
  },
  {
   "cell_type": "code",
   "execution_count": 19,
   "metadata": {},
   "outputs": [],
   "source": [
    "#df5= df4[['Item ID','final_allocation']]"
   ]
  },
  {
   "cell_type": "code",
   "execution_count": 20,
   "metadata": {},
   "outputs": [],
   "source": [
    "#df5.to_excel(\"allocationfile_Aug06.xlsx\")"
   ]
  },
  {
   "cell_type": "code",
   "execution_count": null,
   "metadata": {},
   "outputs": [],
   "source": []
  }
 ],
 "metadata": {
  "kernelspec": {
   "display_name": "Python 3",
   "language": "python",
   "name": "python3"
  },
  "language_info": {
   "codemirror_mode": {
    "name": "ipython",
    "version": 3
   },
   "file_extension": ".py",
   "mimetype": "text/x-python",
   "name": "python",
   "nbconvert_exporter": "python",
   "pygments_lexer": "ipython3",
   "version": "3.8.8"
  }
 },
 "nbformat": 4,
 "nbformat_minor": 4
}
