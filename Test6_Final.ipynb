{
 "cells": [
  {
   "cell_type": "code",
   "execution_count": 1,
   "id": "bd9330d2",
   "metadata": {},
   "outputs": [],
   "source": [
    "import pandas as pd\n",
    "import os\n",
    "import numpy as np\n",
    "from glob import glob"
   ]
  },
  {
   "cell_type": "code",
   "execution_count": 2,
   "id": "720868cd",
   "metadata": {},
   "outputs": [
    {
     "data": {
      "text/plain": [
       "'C:\\\\Users\\\\soan8006\\\\Desktop\\\\Race_practices\\\\Onboarding\\\\Onboarding Attendance in Teams\\\\Onboarding Attendance in Teams\\\\New folder'"
      ]
     },
     "execution_count": 2,
     "metadata": {},
     "output_type": "execute_result"
    }
   ],
   "source": [
    "os.getcwd()"
   ]
  },
  {
   "cell_type": "code",
   "execution_count": 3,
   "id": "4c870cc3",
   "metadata": {},
   "outputs": [],
   "source": [
    "#os.chdir('Onboarding Attendance in Teams\\\\New folder')"
   ]
  },
  {
   "cell_type": "code",
   "execution_count": 4,
   "id": "f9337da2",
   "metadata": {},
   "outputs": [],
   "source": [
    "path2=os.getcwd()"
   ]
  },
  {
   "cell_type": "code",
   "execution_count": 5,
   "id": "e094f714",
   "metadata": {},
   "outputs": [],
   "source": [
    "#ls1=os.listdir(path2)"
   ]
  },
  {
   "cell_type": "code",
   "execution_count": 6,
   "id": "8f80eb17",
   "metadata": {},
   "outputs": [
    {
     "data": {
      "text/plain": [
       "'C:\\\\Users\\\\soan8006\\\\Desktop\\\\Race_practices\\\\Onboarding\\\\Onboarding Attendance in Teams\\\\Onboarding Attendance in Teams\\\\New folder'"
      ]
     },
     "execution_count": 6,
     "metadata": {},
     "output_type": "execute_result"
    }
   ],
   "source": [
    "os.getcwd()"
   ]
  },
  {
   "cell_type": "code",
   "execution_count": 7,
   "id": "6fc381ec",
   "metadata": {},
   "outputs": [],
   "source": [
    "f1 = glob('meeting*.csv')\n",
    "# ls1= [pd.read_csv(f) for f in f1]"
   ]
  },
  {
   "cell_type": "code",
   "execution_count": 8,
   "id": "4a300b93",
   "metadata": {},
   "outputs": [
    {
     "data": {
      "text/plain": [
       "['meetingAttendanceReport(HR Onboarding) 9th Aug.csv']"
      ]
     },
     "execution_count": 8,
     "metadata": {},
     "output_type": "execute_result"
    }
   ],
   "source": [
    "f1"
   ]
  },
  {
   "cell_type": "code",
   "execution_count": 9,
   "id": "d045d3d7",
   "metadata": {},
   "outputs": [],
   "source": [
    "filename=f1[0].split(\"/\")[-1]"
   ]
  },
  {
   "cell_type": "code",
   "execution_count": 10,
   "id": "3a4d6029",
   "metadata": {},
   "outputs": [
    {
     "data": {
      "text/plain": [
       "'meetingAttendanceReport(HR Onboarding) 9th Aug.csv'"
      ]
     },
     "execution_count": 10,
     "metadata": {},
     "output_type": "execute_result"
    }
   ],
   "source": [
    "filename"
   ]
  },
  {
   "cell_type": "code",
   "execution_count": 11,
   "id": "a185e499",
   "metadata": {},
   "outputs": [],
   "source": [
    "fn1=filename.split('(')"
   ]
  },
  {
   "cell_type": "code",
   "execution_count": 12,
   "id": "e97c1611",
   "metadata": {},
   "outputs": [],
   "source": [
    "fn2=fn1[1]"
   ]
  },
  {
   "cell_type": "code",
   "execution_count": 13,
   "id": "928bffd3",
   "metadata": {},
   "outputs": [],
   "source": [
    "fn3=fn2.split(')')"
   ]
  },
  {
   "cell_type": "code",
   "execution_count": 14,
   "id": "f40d142d",
   "metadata": {},
   "outputs": [
    {
     "data": {
      "text/plain": [
       "'HR Onboarding'"
      ]
     },
     "execution_count": 14,
     "metadata": {},
     "output_type": "execute_result"
    }
   ],
   "source": [
    "fn4=fn3[0]\n",
    "fn4"
   ]
  },
  {
   "cell_type": "code",
   "execution_count": 15,
   "id": "d6cbeef1",
   "metadata": {
    "scrolled": false
   },
   "outputs": [
    {
     "name": "stderr",
     "output_type": "stream",
     "text": [
      "<ipython-input-15-970a2bb2e931>:1: ParserWarning: Falling back to the 'python' engine because the 'c' engine does not support regex separators (separators > 1 char and different from '\\s+' are interpreted as regex); you can avoid this warning by specifying engine='python'.\n",
      "  df1=pd.read_csv(f1[0], delimiter = ' , |\\t', skiprows = 7, header=0, encoding = 'utf-16')\n"
     ]
    }
   ],
   "source": [
    "df1=pd.read_csv(f1[0], delimiter = ' , |\\t', skiprows = 7, header=0, encoding = 'utf-16')"
   ]
  },
  {
   "cell_type": "code",
   "execution_count": 16,
   "id": "a236b933",
   "metadata": {},
   "outputs": [],
   "source": [
    "df1['Full Name']= df1['Full Name'].str.strip('\"')\n",
    "df1['Join Time']= df1['Join Time'].str.strip('\"')\n",
    "df1['Leave Time']= df1['Leave Time'].str.strip('\"')\n",
    "\n",
    "df1['Duration']= df1['Duration'].str.strip('\"')\n",
    "df1['Email']= df1['Email'].str.strip('\"')\n",
    "df1['Role']= df1['Role'].str.strip('\"')\n",
    "df1['Participant ID (UPN)']= df1['Participant ID (UPN)'].str.strip('\"')\n"
   ]
  },
  {
   "cell_type": "code",
   "execution_count": 17,
   "id": "5e05388b",
   "metadata": {},
   "outputs": [],
   "source": [
    "df1['Join Time'] = pd.to_datetime(df1['Join Time'])\n",
    "df1['Leave Time'] = pd.to_datetime(df1['Leave Time'])"
   ]
  },
  {
   "cell_type": "code",
   "execution_count": 18,
   "id": "15f59a74",
   "metadata": {},
   "outputs": [],
   "source": [
    "df1['FD'] = df1['Leave Time']-df1['Join Time']"
   ]
  },
  {
   "cell_type": "code",
   "execution_count": 19,
   "id": "427a8d68",
   "metadata": {},
   "outputs": [],
   "source": [
    "df1_group = df1.groupby(['Full Name','Email'])['FD'].sum().reset_index()"
   ]
  },
  {
   "cell_type": "code",
   "execution_count": 20,
   "id": "5d861b6c",
   "metadata": {},
   "outputs": [],
   "source": [
    "df1_group['FD'] = df1_group['FD'].astype(str).str.replace('0 days ','')"
   ]
  },
  {
   "cell_type": "code",
   "execution_count": 21,
   "id": "a2328981",
   "metadata": {},
   "outputs": [
    {
     "data": {
      "text/html": [
       "<div>\n",
       "<style scoped>\n",
       "    .dataframe tbody tr th:only-of-type {\n",
       "        vertical-align: middle;\n",
       "    }\n",
       "\n",
       "    .dataframe tbody tr th {\n",
       "        vertical-align: top;\n",
       "    }\n",
       "\n",
       "    .dataframe thead th {\n",
       "        text-align: right;\n",
       "    }\n",
       "</style>\n",
       "<table border=\"1\" class=\"dataframe\">\n",
       "  <thead>\n",
       "    <tr style=\"text-align: right;\">\n",
       "      <th></th>\n",
       "      <th>Full Name</th>\n",
       "      <th>Email</th>\n",
       "      <th>FD</th>\n",
       "      <th>FD1</th>\n",
       "    </tr>\n",
       "  </thead>\n",
       "  <tbody>\n",
       "    <tr>\n",
       "      <th>0</th>\n",
       "      <td>A, Godfrey</td>\n",
       "      <td>Godfrey.A@nielseniq.com</td>\n",
       "      <td>01:18:34</td>\n",
       "      <td>78.566667</td>\n",
       "    </tr>\n",
       "    <tr>\n",
       "      <th>1</th>\n",
       "      <td>A, Rita S</td>\n",
       "      <td>Rita.A@nielseniq.com</td>\n",
       "      <td>01:18:50</td>\n",
       "      <td>78.833333</td>\n",
       "    </tr>\n",
       "    <tr>\n",
       "      <th>2</th>\n",
       "      <td>Alisha, Noorbasha</td>\n",
       "      <td>Noorbasha.Alisha@nielseniq.com</td>\n",
       "      <td>01:21:15</td>\n",
       "      <td>81.250000</td>\n",
       "    </tr>\n",
       "    <tr>\n",
       "      <th>3</th>\n",
       "      <td>Anil, Amal</td>\n",
       "      <td>Amal.Anil@nielseniq.com</td>\n",
       "      <td>01:24:26</td>\n",
       "      <td>84.433333</td>\n",
       "    </tr>\n",
       "    <tr>\n",
       "      <th>4</th>\n",
       "      <td>BAIPILLA, VASAVI N</td>\n",
       "      <td>VASAVI.BAIPILLA@nielseniq.com</td>\n",
       "      <td>01:12:00</td>\n",
       "      <td>72.000000</td>\n",
       "    </tr>\n",
       "  </tbody>\n",
       "</table>\n",
       "</div>"
      ],
      "text/plain": [
       "            Full Name                           Email        FD        FD1\n",
       "0          A, Godfrey         Godfrey.A@nielseniq.com  01:18:34  78.566667\n",
       "1           A, Rita S            Rita.A@nielseniq.com  01:18:50  78.833333\n",
       "2   Alisha, Noorbasha  Noorbasha.Alisha@nielseniq.com  01:21:15  81.250000\n",
       "3          Anil, Amal         Amal.Anil@nielseniq.com  01:24:26  84.433333\n",
       "4  BAIPILLA, VASAVI N   VASAVI.BAIPILLA@nielseniq.com  01:12:00  72.000000"
      ]
     },
     "execution_count": 21,
     "metadata": {},
     "output_type": "execute_result"
    }
   ],
   "source": [
    "df1_group['FD1'] = df1_group['FD'].apply(lambda x : (int(x.split(':')[0]) * 60) + (int(x.split(':')[1]) + int(x.split(':')[2]) / 60))\n",
    "df1_group.head()"
   ]
  },
  {
   "cell_type": "code",
   "execution_count": 22,
   "id": "d9528ab0",
   "metadata": {},
   "outputs": [],
   "source": [
    "df1_group = df1_group.assign(FN=fn4)"
   ]
  },
  {
   "cell_type": "code",
   "execution_count": 23,
   "id": "cc88943c",
   "metadata": {},
   "outputs": [],
   "source": [
    "df2_group = df1.groupby(['Full Name'])['FD'].sum().reset_index()"
   ]
  },
  {
   "cell_type": "code",
   "execution_count": 24,
   "id": "ab385372",
   "metadata": {},
   "outputs": [],
   "source": [
    "df2_group['FD'] = df2_group['FD'].astype(str).str.replace('0 days ','')"
   ]
  },
  {
   "cell_type": "code",
   "execution_count": 25,
   "id": "b7e5b93b",
   "metadata": {},
   "outputs": [
    {
     "data": {
      "text/html": [
       "<div>\n",
       "<style scoped>\n",
       "    .dataframe tbody tr th:only-of-type {\n",
       "        vertical-align: middle;\n",
       "    }\n",
       "\n",
       "    .dataframe tbody tr th {\n",
       "        vertical-align: top;\n",
       "    }\n",
       "\n",
       "    .dataframe thead th {\n",
       "        text-align: right;\n",
       "    }\n",
       "</style>\n",
       "<table border=\"1\" class=\"dataframe\">\n",
       "  <thead>\n",
       "    <tr style=\"text-align: right;\">\n",
       "      <th></th>\n",
       "      <th>Full Name</th>\n",
       "      <th>FD</th>\n",
       "      <th>FD1</th>\n",
       "    </tr>\n",
       "  </thead>\n",
       "  <tbody>\n",
       "    <tr>\n",
       "      <th>0</th>\n",
       "      <td>A, Godfrey</td>\n",
       "      <td>01:18:34</td>\n",
       "      <td>78.566667</td>\n",
       "    </tr>\n",
       "    <tr>\n",
       "      <th>1</th>\n",
       "      <td>A, Rita S</td>\n",
       "      <td>01:18:50</td>\n",
       "      <td>78.833333</td>\n",
       "    </tr>\n",
       "    <tr>\n",
       "      <th>2</th>\n",
       "      <td>Akanksha Bhriguvanshi (Guest)</td>\n",
       "      <td>00:00:03</td>\n",
       "      <td>0.050000</td>\n",
       "    </tr>\n",
       "    <tr>\n",
       "      <th>3</th>\n",
       "      <td>Alisha, Noorbasha</td>\n",
       "      <td>01:21:15</td>\n",
       "      <td>81.250000</td>\n",
       "    </tr>\n",
       "    <tr>\n",
       "      <th>4</th>\n",
       "      <td>Anil, Amal</td>\n",
       "      <td>01:24:26</td>\n",
       "      <td>84.433333</td>\n",
       "    </tr>\n",
       "  </tbody>\n",
       "</table>\n",
       "</div>"
      ],
      "text/plain": [
       "                       Full Name        FD        FD1\n",
       "0                     A, Godfrey  01:18:34  78.566667\n",
       "1                      A, Rita S  01:18:50  78.833333\n",
       "2  Akanksha Bhriguvanshi (Guest)  00:00:03   0.050000\n",
       "3              Alisha, Noorbasha  01:21:15  81.250000\n",
       "4                     Anil, Amal  01:24:26  84.433333"
      ]
     },
     "execution_count": 25,
     "metadata": {},
     "output_type": "execute_result"
    }
   ],
   "source": [
    "df2_group['FD1'] = df2_group['FD'].apply(lambda x : (int(x.split(':')[0]) * 60) + (int(x.split(':')[1]) + int(x.split(':')[2]) / 60))\n",
    "df2_group.head()"
   ]
  },
  {
   "cell_type": "code",
   "execution_count": 26,
   "id": "6877c3e8",
   "metadata": {},
   "outputs": [],
   "source": [
    "df2_group = df2_group.assign(FN=fn4)"
   ]
  },
  {
   "cell_type": "code",
   "execution_count": 27,
   "id": "a41d9ab2",
   "metadata": {},
   "outputs": [],
   "source": [
    "df3=pd.read_excel('C:\\\\Users\\soan8006\\\\Desktop\\\\Race_practices\\\\Onboarding\\\\Onboarding Attendance in Teams\\\\Onboarding Attendance in Teams\\\\New Folder\\\\Training Timings.xlsx')"
   ]
  },
  {
   "cell_type": "code",
   "execution_count": 28,
   "id": "d5bffa70",
   "metadata": {},
   "outputs": [
    {
     "data": {
      "text/html": [
       "<div>\n",
       "<style scoped>\n",
       "    .dataframe tbody tr th:only-of-type {\n",
       "        vertical-align: middle;\n",
       "    }\n",
       "\n",
       "    .dataframe tbody tr th {\n",
       "        vertical-align: top;\n",
       "    }\n",
       "\n",
       "    .dataframe thead th {\n",
       "        text-align: right;\n",
       "    }\n",
       "</style>\n",
       "<table border=\"1\" class=\"dataframe\">\n",
       "  <thead>\n",
       "    <tr style=\"text-align: right;\">\n",
       "      <th></th>\n",
       "      <th>Day of Week</th>\n",
       "      <th>Timing</th>\n",
       "      <th>FN</th>\n",
       "      <th>Total Time</th>\n",
       "      <th>Cutoff Time</th>\n",
       "    </tr>\n",
       "  </thead>\n",
       "  <tbody>\n",
       "    <tr>\n",
       "      <th>0</th>\n",
       "      <td>Monday</td>\n",
       "      <td>10 am - 11 am</td>\n",
       "      <td>IT Onboarding</td>\n",
       "      <td>60</td>\n",
       "      <td>48</td>\n",
       "    </tr>\n",
       "    <tr>\n",
       "      <th>1</th>\n",
       "      <td>Monday</td>\n",
       "      <td>3 pm - 4 pm</td>\n",
       "      <td>HR Onboarding</td>\n",
       "      <td>60</td>\n",
       "      <td>48</td>\n",
       "    </tr>\n",
       "    <tr>\n",
       "      <th>2</th>\n",
       "      <td>Tuesday</td>\n",
       "      <td>11 am - 1 pm</td>\n",
       "      <td>Discover NielsenIQ &amp; MINOC</td>\n",
       "      <td>120</td>\n",
       "      <td>96</td>\n",
       "    </tr>\n",
       "    <tr>\n",
       "      <th>3</th>\n",
       "      <td>Tuesday</td>\n",
       "      <td>3 pm - 4 pm</td>\n",
       "      <td>MINOC Culture &amp; Check-Ins</td>\n",
       "      <td>60</td>\n",
       "      <td>48</td>\n",
       "    </tr>\n",
       "    <tr>\n",
       "      <th>4</th>\n",
       "      <td>Wednesday</td>\n",
       "      <td>11 am - 1 pm</td>\n",
       "      <td>CIP E2E Production Overview</td>\n",
       "      <td>120</td>\n",
       "      <td>96</td>\n",
       "    </tr>\n",
       "  </tbody>\n",
       "</table>\n",
       "</div>"
      ],
      "text/plain": [
       "  Day of Week         Timing                           FN  Total Time  \\\n",
       "0      Monday  10 am - 11 am                IT Onboarding          60   \n",
       "1      Monday    3 pm - 4 pm                HR Onboarding          60   \n",
       "2     Tuesday   11 am - 1 pm   Discover NielsenIQ & MINOC         120   \n",
       "3     Tuesday    3 pm - 4 pm    MINOC Culture & Check-Ins          60   \n",
       "4   Wednesday   11 am - 1 pm  CIP E2E Production Overview         120   \n",
       "\n",
       "   Cutoff Time  \n",
       "0           48  \n",
       "1           48  \n",
       "2           96  \n",
       "3           48  \n",
       "4           96  "
      ]
     },
     "execution_count": 28,
     "metadata": {},
     "output_type": "execute_result"
    }
   ],
   "source": [
    "df3"
   ]
  },
  {
   "cell_type": "code",
   "execution_count": 29,
   "id": "8d0361cb",
   "metadata": {},
   "outputs": [],
   "source": [
    "df4=df1_group.merge(df3)\n",
    "df5=df2_group.merge(df3)"
   ]
  },
  {
   "cell_type": "code",
   "execution_count": 30,
   "id": "a91df95e",
   "metadata": {},
   "outputs": [
    {
     "data": {
      "text/html": [
       "<div>\n",
       "<style scoped>\n",
       "    .dataframe tbody tr th:only-of-type {\n",
       "        vertical-align: middle;\n",
       "    }\n",
       "\n",
       "    .dataframe tbody tr th {\n",
       "        vertical-align: top;\n",
       "    }\n",
       "\n",
       "    .dataframe thead th {\n",
       "        text-align: right;\n",
       "    }\n",
       "</style>\n",
       "<table border=\"1\" class=\"dataframe\">\n",
       "  <thead>\n",
       "    <tr style=\"text-align: right;\">\n",
       "      <th></th>\n",
       "      <th>Full Name</th>\n",
       "      <th>Email</th>\n",
       "      <th>FD</th>\n",
       "      <th>FD1</th>\n",
       "      <th>FN</th>\n",
       "      <th>Day of Week</th>\n",
       "      <th>Timing</th>\n",
       "      <th>Total Time</th>\n",
       "      <th>Cutoff Time</th>\n",
       "    </tr>\n",
       "  </thead>\n",
       "  <tbody>\n",
       "    <tr>\n",
       "      <th>0</th>\n",
       "      <td>A, Godfrey</td>\n",
       "      <td>Godfrey.A@nielseniq.com</td>\n",
       "      <td>01:18:34</td>\n",
       "      <td>78.566667</td>\n",
       "      <td>HR Onboarding</td>\n",
       "      <td>Monday</td>\n",
       "      <td>3 pm - 4 pm</td>\n",
       "      <td>60</td>\n",
       "      <td>48</td>\n",
       "    </tr>\n",
       "    <tr>\n",
       "      <th>1</th>\n",
       "      <td>A, Rita S</td>\n",
       "      <td>Rita.A@nielseniq.com</td>\n",
       "      <td>01:18:50</td>\n",
       "      <td>78.833333</td>\n",
       "      <td>HR Onboarding</td>\n",
       "      <td>Monday</td>\n",
       "      <td>3 pm - 4 pm</td>\n",
       "      <td>60</td>\n",
       "      <td>48</td>\n",
       "    </tr>\n",
       "    <tr>\n",
       "      <th>2</th>\n",
       "      <td>Alisha, Noorbasha</td>\n",
       "      <td>Noorbasha.Alisha@nielseniq.com</td>\n",
       "      <td>01:21:15</td>\n",
       "      <td>81.250000</td>\n",
       "      <td>HR Onboarding</td>\n",
       "      <td>Monday</td>\n",
       "      <td>3 pm - 4 pm</td>\n",
       "      <td>60</td>\n",
       "      <td>48</td>\n",
       "    </tr>\n",
       "    <tr>\n",
       "      <th>3</th>\n",
       "      <td>Anil, Amal</td>\n",
       "      <td>Amal.Anil@nielseniq.com</td>\n",
       "      <td>01:24:26</td>\n",
       "      <td>84.433333</td>\n",
       "      <td>HR Onboarding</td>\n",
       "      <td>Monday</td>\n",
       "      <td>3 pm - 4 pm</td>\n",
       "      <td>60</td>\n",
       "      <td>48</td>\n",
       "    </tr>\n",
       "    <tr>\n",
       "      <th>4</th>\n",
       "      <td>BAIPILLA, VASAVI N</td>\n",
       "      <td>VASAVI.BAIPILLA@nielseniq.com</td>\n",
       "      <td>01:12:00</td>\n",
       "      <td>72.000000</td>\n",
       "      <td>HR Onboarding</td>\n",
       "      <td>Monday</td>\n",
       "      <td>3 pm - 4 pm</td>\n",
       "      <td>60</td>\n",
       "      <td>48</td>\n",
       "    </tr>\n",
       "  </tbody>\n",
       "</table>\n",
       "</div>"
      ],
      "text/plain": [
       "            Full Name                           Email        FD        FD1  \\\n",
       "0          A, Godfrey         Godfrey.A@nielseniq.com  01:18:34  78.566667   \n",
       "1           A, Rita S            Rita.A@nielseniq.com  01:18:50  78.833333   \n",
       "2   Alisha, Noorbasha  Noorbasha.Alisha@nielseniq.com  01:21:15  81.250000   \n",
       "3          Anil, Amal         Amal.Anil@nielseniq.com  01:24:26  84.433333   \n",
       "4  BAIPILLA, VASAVI N   VASAVI.BAIPILLA@nielseniq.com  01:12:00  72.000000   \n",
       "\n",
       "              FN Day of Week       Timing  Total Time  Cutoff Time  \n",
       "0  HR Onboarding      Monday  3 pm - 4 pm          60           48  \n",
       "1  HR Onboarding      Monday  3 pm - 4 pm          60           48  \n",
       "2  HR Onboarding      Monday  3 pm - 4 pm          60           48  \n",
       "3  HR Onboarding      Monday  3 pm - 4 pm          60           48  \n",
       "4  HR Onboarding      Monday  3 pm - 4 pm          60           48  "
      ]
     },
     "execution_count": 30,
     "metadata": {},
     "output_type": "execute_result"
    }
   ],
   "source": [
    "df4.head()\n"
   ]
  },
  {
   "cell_type": "code",
   "execution_count": 31,
   "id": "47db8d0b",
   "metadata": {},
   "outputs": [
    {
     "data": {
      "text/html": [
       "<div>\n",
       "<style scoped>\n",
       "    .dataframe tbody tr th:only-of-type {\n",
       "        vertical-align: middle;\n",
       "    }\n",
       "\n",
       "    .dataframe tbody tr th {\n",
       "        vertical-align: top;\n",
       "    }\n",
       "\n",
       "    .dataframe thead th {\n",
       "        text-align: right;\n",
       "    }\n",
       "</style>\n",
       "<table border=\"1\" class=\"dataframe\">\n",
       "  <thead>\n",
       "    <tr style=\"text-align: right;\">\n",
       "      <th></th>\n",
       "      <th>Full Name</th>\n",
       "      <th>FD</th>\n",
       "      <th>FD1</th>\n",
       "      <th>FN</th>\n",
       "      <th>Day of Week</th>\n",
       "      <th>Timing</th>\n",
       "      <th>Total Time</th>\n",
       "      <th>Cutoff Time</th>\n",
       "    </tr>\n",
       "  </thead>\n",
       "  <tbody>\n",
       "    <tr>\n",
       "      <th>0</th>\n",
       "      <td>A, Godfrey</td>\n",
       "      <td>01:18:34</td>\n",
       "      <td>78.566667</td>\n",
       "      <td>HR Onboarding</td>\n",
       "      <td>Monday</td>\n",
       "      <td>3 pm - 4 pm</td>\n",
       "      <td>60</td>\n",
       "      <td>48</td>\n",
       "    </tr>\n",
       "    <tr>\n",
       "      <th>1</th>\n",
       "      <td>A, Rita S</td>\n",
       "      <td>01:18:50</td>\n",
       "      <td>78.833333</td>\n",
       "      <td>HR Onboarding</td>\n",
       "      <td>Monday</td>\n",
       "      <td>3 pm - 4 pm</td>\n",
       "      <td>60</td>\n",
       "      <td>48</td>\n",
       "    </tr>\n",
       "    <tr>\n",
       "      <th>2</th>\n",
       "      <td>Akanksha Bhriguvanshi (Guest)</td>\n",
       "      <td>00:00:03</td>\n",
       "      <td>0.050000</td>\n",
       "      <td>HR Onboarding</td>\n",
       "      <td>Monday</td>\n",
       "      <td>3 pm - 4 pm</td>\n",
       "      <td>60</td>\n",
       "      <td>48</td>\n",
       "    </tr>\n",
       "    <tr>\n",
       "      <th>3</th>\n",
       "      <td>Alisha, Noorbasha</td>\n",
       "      <td>01:21:15</td>\n",
       "      <td>81.250000</td>\n",
       "      <td>HR Onboarding</td>\n",
       "      <td>Monday</td>\n",
       "      <td>3 pm - 4 pm</td>\n",
       "      <td>60</td>\n",
       "      <td>48</td>\n",
       "    </tr>\n",
       "    <tr>\n",
       "      <th>4</th>\n",
       "      <td>Anil, Amal</td>\n",
       "      <td>01:24:26</td>\n",
       "      <td>84.433333</td>\n",
       "      <td>HR Onboarding</td>\n",
       "      <td>Monday</td>\n",
       "      <td>3 pm - 4 pm</td>\n",
       "      <td>60</td>\n",
       "      <td>48</td>\n",
       "    </tr>\n",
       "  </tbody>\n",
       "</table>\n",
       "</div>"
      ],
      "text/plain": [
       "                       Full Name        FD        FD1             FN  \\\n",
       "0                     A, Godfrey  01:18:34  78.566667  HR Onboarding   \n",
       "1                      A, Rita S  01:18:50  78.833333  HR Onboarding   \n",
       "2  Akanksha Bhriguvanshi (Guest)  00:00:03   0.050000  HR Onboarding   \n",
       "3              Alisha, Noorbasha  01:21:15  81.250000  HR Onboarding   \n",
       "4                     Anil, Amal  01:24:26  84.433333  HR Onboarding   \n",
       "\n",
       "  Day of Week       Timing  Total Time  Cutoff Time  \n",
       "0      Monday  3 pm - 4 pm          60           48  \n",
       "1      Monday  3 pm - 4 pm          60           48  \n",
       "2      Monday  3 pm - 4 pm          60           48  \n",
       "3      Monday  3 pm - 4 pm          60           48  \n",
       "4      Monday  3 pm - 4 pm          60           48  "
      ]
     },
     "execution_count": 31,
     "metadata": {},
     "output_type": "execute_result"
    }
   ],
   "source": [
    "df5.head()"
   ]
  },
  {
   "cell_type": "code",
   "execution_count": 32,
   "id": "bab80bbb",
   "metadata": {},
   "outputs": [],
   "source": [
    "df4['Attendance']=np.where((df4['FD1'] >= df4['Cutoff Time']), 'Attended', 'Absent')"
   ]
  },
  {
   "cell_type": "code",
   "execution_count": 33,
   "id": "89d2c91d",
   "metadata": {},
   "outputs": [],
   "source": [
    "df5['Attendance']=np.where((df5['FD1'] >= df5['Cutoff Time']), 'Attended', 'Absent')"
   ]
  },
  {
   "cell_type": "code",
   "execution_count": null,
   "id": "652e8c3d",
   "metadata": {},
   "outputs": [],
   "source": []
  },
  {
   "cell_type": "code",
   "execution_count": 34,
   "id": "04669ed5",
   "metadata": {},
   "outputs": [],
   "source": [
    "df4.to_excel('Attendance_with_email_' + f1[0][:-4] + '.xlsx')"
   ]
  },
  {
   "cell_type": "code",
   "execution_count": 35,
   "id": "4977f2db",
   "metadata": {},
   "outputs": [],
   "source": [
    "df5.to_excel('Attendance_without_email_' + f1[0][:-4] + '.xlsx')"
   ]
  },
  {
   "cell_type": "code",
   "execution_count": null,
   "id": "7bd7772d",
   "metadata": {},
   "outputs": [],
   "source": []
  }
 ],
 "metadata": {
  "kernelspec": {
   "display_name": "Python 3",
   "language": "python",
   "name": "python3"
  },
  "language_info": {
   "codemirror_mode": {
    "name": "ipython",
    "version": 3
   },
   "file_extension": ".py",
   "mimetype": "text/x-python",
   "name": "python",
   "nbconvert_exporter": "python",
   "pygments_lexer": "ipython3",
   "version": "3.8.8"
  }
 },
 "nbformat": 4,
 "nbformat_minor": 5
}
